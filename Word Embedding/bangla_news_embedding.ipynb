{
  "nbformat": 4,
  "nbformat_minor": 0,
  "metadata": {
    "colab": {
      "provenance": [],
      "mount_file_id": "13U-gb_NZohTvqaGmJhaNS5aYo-Ynv5gw",
      "authorship_tag": "ABX9TyOVZWohmgW3+6JdWyBVBUGL"
    },
    "kernelspec": {
      "name": "python3",
      "display_name": "Python 3"
    },
    "language_info": {
      "name": "python"
    }
  },
  "cells": [
    {
      "cell_type": "markdown",
      "source": [
        "# Word Embedding using Gensim"
      ],
      "metadata": {
        "id": "umVKk7-Xz0Hl"
      }
    },
    {
      "cell_type": "code",
      "execution_count": null,
      "metadata": {
        "id": "Kik3Vd1Yy2FR"
      },
      "outputs": [],
      "source": [
        "# INSTALL LIBRARIES\n",
        "!pip install numpy pandas gensim nltk"
      ]
    },
    {
      "cell_type": "code",
      "source": [
        "# IMPORT LIBRARIES\n",
        "import numpy as np\n",
        "import pandas as pd\n",
        "import nltk\n",
        "from nltk.tokenize import word_tokenize\n",
        "from gensim.models import Word2Vec"
      ],
      "metadata": {
        "id": "l5RuCzsczJPo"
      },
      "execution_count": null,
      "outputs": []
    },
    {
      "cell_type": "code",
      "source": [
        "# DOWNLOAD NLTK MODULES\n",
        "nltk.download(\"all\")"
      ],
      "metadata": {
        "id": "QZ5svXgb_fOb"
      },
      "execution_count": null,
      "outputs": []
    },
    {
      "cell_type": "code",
      "source": [
        "# LOAD DATA\n",
        "# Dataset URL: https://data.mendeley.com/datasets/v362rp78dc/4\n",
        "dataset = pd.read_csv(\"drive/MyDrive/Datasets/Inqilab__2016_2020_scienceandtechnology_text.csv\")\n",
        "dataset.info()"
      ],
      "metadata": {
        "colab": {
          "base_uri": "https://localhost:8080/"
        },
        "id": "UaAMBNMuz8OW",
        "outputId": "8d50664d-4415-475a-b79b-7f0b7d4c27bc"
      },
      "execution_count": null,
      "outputs": [
        {
          "output_type": "stream",
          "name": "stdout",
          "text": [
            "<class 'pandas.core.frame.DataFrame'>\n",
            "RangeIndex: 544 entries, 0 to 543\n",
            "Data columns (total 6 columns):\n",
            " #   Column      Non-Null Count  Dtype \n",
            "---  ------      --------------  ----- \n",
            " 0   Unnamed: 0  544 non-null    int64 \n",
            " 1   News        544 non-null    object\n",
            " 2   Category    544 non-null    object\n",
            " 3   Heading     544 non-null    object\n",
            " 4   Date        544 non-null    object\n",
            " 5   Source      544 non-null    object\n",
            "dtypes: int64(1), object(5)\n",
            "memory usage: 25.6+ KB\n"
          ]
        }
      ]
    },
    {
      "cell_type": "code",
      "source": [
        "# VIEW FIRST 5 TUPLES\n",
        "dataset.head(5)"
      ],
      "metadata": {
        "colab": {
          "base_uri": "https://localhost:8080/",
          "height": 1238
        },
        "id": "0bAtsj9Y6I7P",
        "outputId": "423b0925-dcb8-45bb-dbda-33a5af72ce16"
      },
      "execution_count": null,
      "outputs": [
        {
          "output_type": "execute_result",
          "data": {
            "text/plain": [
              "   Unnamed: 0                                               News  \\\n",
              "0           0  টেক জায়ান্ট অ্যাপলের পরবর্তী আইফোনে ৩.৫ মিলিমি...   \n",
              "1           1  বাংলাদেশ ব্যাংকের 'স্কিলস ফর অ্যামপ্লয়মেন্ট ইন...   \n",
              "2           2  গত দশক থেকে বিশজুড়েই সব মানুষের ইন্টারনেটের ওপ...   \n",
              "3           3  বাংলাদেশে নতুন বছরের গৃহসামগ্রীর (হোম এপ্লায়ান...   \n",
              "4           4  খুব শীঘ্রই অ্যাপল ব্যবহারকারীরা নিজেদের ডিভাইস...   \n",
              "\n",
              "             Category                                            Heading  \\\n",
              "0  Science_Technology                হেডফোন জ্যাক থাকছেনা পরবর্তী আইফোনে   \n",
              "1  Science_Technology    স্কিলস ফর অ্যামপ্লয়মেন্ট ইনভেস্টমেন্ট প্রোগ্রাম   \n",
              "2  Science_Technology      অনলাইন ক্লাসিফাইড ওয়েবসাইটের জনপ্রিয়তা বৃদ্ধি   \n",
              "3  Science_Technology                             ফিলিপসের গৃহ প্রযুক্তি   \n",
              "4  Science_Technology  আইওএস ব্যবহারকারীদের জন্য ফেসবুকের থ্রিডি টাচ ...   \n",
              "\n",
              "         Date   Source  \n",
              "0  2016/01/19  Inqilab  \n",
              "1  2016/01/19  Inqilab  \n",
              "2  2016/01/19  Inqilab  \n",
              "3  2016/02/02  Inqilab  \n",
              "4  2016/02/02  Inqilab  "
            ],
            "text/html": [
              "\n",
              "  <div id=\"df-8d876ff8-3393-43c2-9284-c4a04a8b69c9\" class=\"colab-df-container\">\n",
              "    <div>\n",
              "<style scoped>\n",
              "    .dataframe tbody tr th:only-of-type {\n",
              "        vertical-align: middle;\n",
              "    }\n",
              "\n",
              "    .dataframe tbody tr th {\n",
              "        vertical-align: top;\n",
              "    }\n",
              "\n",
              "    .dataframe thead th {\n",
              "        text-align: right;\n",
              "    }\n",
              "</style>\n",
              "<table border=\"1\" class=\"dataframe\">\n",
              "  <thead>\n",
              "    <tr style=\"text-align: right;\">\n",
              "      <th></th>\n",
              "      <th>Unnamed: 0</th>\n",
              "      <th>News</th>\n",
              "      <th>Category</th>\n",
              "      <th>Heading</th>\n",
              "      <th>Date</th>\n",
              "      <th>Source</th>\n",
              "    </tr>\n",
              "  </thead>\n",
              "  <tbody>\n",
              "    <tr>\n",
              "      <th>0</th>\n",
              "      <td>0</td>\n",
              "      <td>টেক জায়ান্ট অ্যাপলের পরবর্তী আইফোনে ৩.৫ মিলিমি...</td>\n",
              "      <td>Science_Technology</td>\n",
              "      <td>হেডফোন জ্যাক থাকছেনা পরবর্তী আইফোনে</td>\n",
              "      <td>2016/01/19</td>\n",
              "      <td>Inqilab</td>\n",
              "    </tr>\n",
              "    <tr>\n",
              "      <th>1</th>\n",
              "      <td>1</td>\n",
              "      <td>বাংলাদেশ ব্যাংকের 'স্কিলস ফর অ্যামপ্লয়মেন্ট ইন...</td>\n",
              "      <td>Science_Technology</td>\n",
              "      <td>স্কিলস ফর অ্যামপ্লয়মেন্ট ইনভেস্টমেন্ট প্রোগ্রাম</td>\n",
              "      <td>2016/01/19</td>\n",
              "      <td>Inqilab</td>\n",
              "    </tr>\n",
              "    <tr>\n",
              "      <th>2</th>\n",
              "      <td>2</td>\n",
              "      <td>গত দশক থেকে বিশজুড়েই সব মানুষের ইন্টারনেটের ওপ...</td>\n",
              "      <td>Science_Technology</td>\n",
              "      <td>অনলাইন ক্লাসিফাইড ওয়েবসাইটের জনপ্রিয়তা বৃদ্ধি</td>\n",
              "      <td>2016/01/19</td>\n",
              "      <td>Inqilab</td>\n",
              "    </tr>\n",
              "    <tr>\n",
              "      <th>3</th>\n",
              "      <td>3</td>\n",
              "      <td>বাংলাদেশে নতুন বছরের গৃহসামগ্রীর (হোম এপ্লায়ান...</td>\n",
              "      <td>Science_Technology</td>\n",
              "      <td>ফিলিপসের গৃহ প্রযুক্তি</td>\n",
              "      <td>2016/02/02</td>\n",
              "      <td>Inqilab</td>\n",
              "    </tr>\n",
              "    <tr>\n",
              "      <th>4</th>\n",
              "      <td>4</td>\n",
              "      <td>খুব শীঘ্রই অ্যাপল ব্যবহারকারীরা নিজেদের ডিভাইস...</td>\n",
              "      <td>Science_Technology</td>\n",
              "      <td>আইওএস ব্যবহারকারীদের জন্য ফেসবুকের থ্রিডি টাচ ...</td>\n",
              "      <td>2016/02/02</td>\n",
              "      <td>Inqilab</td>\n",
              "    </tr>\n",
              "  </tbody>\n",
              "</table>\n",
              "</div>\n",
              "    <div class=\"colab-df-buttons\">\n",
              "\n",
              "  <div class=\"colab-df-container\">\n",
              "    <button class=\"colab-df-convert\" onclick=\"convertToInteractive('df-8d876ff8-3393-43c2-9284-c4a04a8b69c9')\"\n",
              "            title=\"Convert this dataframe to an interactive table.\"\n",
              "            style=\"display:none;\">\n",
              "\n",
              "  <svg xmlns=\"http://www.w3.org/2000/svg\" height=\"24px\" viewBox=\"0 -960 960 960\">\n",
              "    <path d=\"M120-120v-720h720v720H120Zm60-500h600v-160H180v160Zm220 220h160v-160H400v160Zm0 220h160v-160H400v160ZM180-400h160v-160H180v160Zm440 0h160v-160H620v160ZM180-180h160v-160H180v160Zm440 0h160v-160H620v160Z\"/>\n",
              "  </svg>\n",
              "    </button>\n",
              "\n",
              "  <style>\n",
              "    .colab-df-container {\n",
              "      display:flex;\n",
              "      gap: 12px;\n",
              "    }\n",
              "\n",
              "    .colab-df-convert {\n",
              "      background-color: #E8F0FE;\n",
              "      border: none;\n",
              "      border-radius: 50%;\n",
              "      cursor: pointer;\n",
              "      display: none;\n",
              "      fill: #1967D2;\n",
              "      height: 32px;\n",
              "      padding: 0 0 0 0;\n",
              "      width: 32px;\n",
              "    }\n",
              "\n",
              "    .colab-df-convert:hover {\n",
              "      background-color: #E2EBFA;\n",
              "      box-shadow: 0px 1px 2px rgba(60, 64, 67, 0.3), 0px 1px 3px 1px rgba(60, 64, 67, 0.15);\n",
              "      fill: #174EA6;\n",
              "    }\n",
              "\n",
              "    .colab-df-buttons div {\n",
              "      margin-bottom: 4px;\n",
              "    }\n",
              "\n",
              "    [theme=dark] .colab-df-convert {\n",
              "      background-color: #3B4455;\n",
              "      fill: #D2E3FC;\n",
              "    }\n",
              "\n",
              "    [theme=dark] .colab-df-convert:hover {\n",
              "      background-color: #434B5C;\n",
              "      box-shadow: 0px 1px 3px 1px rgba(0, 0, 0, 0.15);\n",
              "      filter: drop-shadow(0px 1px 2px rgba(0, 0, 0, 0.3));\n",
              "      fill: #FFFFFF;\n",
              "    }\n",
              "  </style>\n",
              "\n",
              "    <script>\n",
              "      const buttonEl =\n",
              "        document.querySelector('#df-8d876ff8-3393-43c2-9284-c4a04a8b69c9 button.colab-df-convert');\n",
              "      buttonEl.style.display =\n",
              "        google.colab.kernel.accessAllowed ? 'block' : 'none';\n",
              "\n",
              "      async function convertToInteractive(key) {\n",
              "        const element = document.querySelector('#df-8d876ff8-3393-43c2-9284-c4a04a8b69c9');\n",
              "        const dataTable =\n",
              "          await google.colab.kernel.invokeFunction('convertToInteractive',\n",
              "                                                    [key], {});\n",
              "        if (!dataTable) return;\n",
              "\n",
              "        const docLinkHtml = 'Like what you see? Visit the ' +\n",
              "          '<a target=\"_blank\" href=https://colab.research.google.com/notebooks/data_table.ipynb>data table notebook</a>'\n",
              "          + ' to learn more about interactive tables.';\n",
              "        element.innerHTML = '';\n",
              "        dataTable['output_type'] = 'display_data';\n",
              "        await google.colab.output.renderOutput(dataTable, element);\n",
              "        const docLink = document.createElement('div');\n",
              "        docLink.innerHTML = docLinkHtml;\n",
              "        element.appendChild(docLink);\n",
              "      }\n",
              "    </script>\n",
              "  </div>\n",
              "\n",
              "\n",
              "<div id=\"df-a0d16a7e-f08a-45bc-b733-b422419a24cc\">\n",
              "  <button class=\"colab-df-quickchart\" onclick=\"quickchart('df-a0d16a7e-f08a-45bc-b733-b422419a24cc')\"\n",
              "            title=\"Suggest charts.\"\n",
              "            style=\"display:none;\">\n",
              "\n",
              "<svg xmlns=\"http://www.w3.org/2000/svg\" height=\"24px\"viewBox=\"0 0 24 24\"\n",
              "     width=\"24px\">\n",
              "    <g>\n",
              "        <path d=\"M19 3H5c-1.1 0-2 .9-2 2v14c0 1.1.9 2 2 2h14c1.1 0 2-.9 2-2V5c0-1.1-.9-2-2-2zM9 17H7v-7h2v7zm4 0h-2V7h2v10zm4 0h-2v-4h2v4z\"/>\n",
              "    </g>\n",
              "</svg>\n",
              "  </button>\n",
              "\n",
              "<style>\n",
              "  .colab-df-quickchart {\n",
              "      --bg-color: #E8F0FE;\n",
              "      --fill-color: #1967D2;\n",
              "      --hover-bg-color: #E2EBFA;\n",
              "      --hover-fill-color: #174EA6;\n",
              "      --disabled-fill-color: #AAA;\n",
              "      --disabled-bg-color: #DDD;\n",
              "  }\n",
              "\n",
              "  [theme=dark] .colab-df-quickchart {\n",
              "      --bg-color: #3B4455;\n",
              "      --fill-color: #D2E3FC;\n",
              "      --hover-bg-color: #434B5C;\n",
              "      --hover-fill-color: #FFFFFF;\n",
              "      --disabled-bg-color: #3B4455;\n",
              "      --disabled-fill-color: #666;\n",
              "  }\n",
              "\n",
              "  .colab-df-quickchart {\n",
              "    background-color: var(--bg-color);\n",
              "    border: none;\n",
              "    border-radius: 50%;\n",
              "    cursor: pointer;\n",
              "    display: none;\n",
              "    fill: var(--fill-color);\n",
              "    height: 32px;\n",
              "    padding: 0;\n",
              "    width: 32px;\n",
              "  }\n",
              "\n",
              "  .colab-df-quickchart:hover {\n",
              "    background-color: var(--hover-bg-color);\n",
              "    box-shadow: 0 1px 2px rgba(60, 64, 67, 0.3), 0 1px 3px 1px rgba(60, 64, 67, 0.15);\n",
              "    fill: var(--button-hover-fill-color);\n",
              "  }\n",
              "\n",
              "  .colab-df-quickchart-complete:disabled,\n",
              "  .colab-df-quickchart-complete:disabled:hover {\n",
              "    background-color: var(--disabled-bg-color);\n",
              "    fill: var(--disabled-fill-color);\n",
              "    box-shadow: none;\n",
              "  }\n",
              "\n",
              "  .colab-df-spinner {\n",
              "    border: 2px solid var(--fill-color);\n",
              "    border-color: transparent;\n",
              "    border-bottom-color: var(--fill-color);\n",
              "    animation:\n",
              "      spin 1s steps(1) infinite;\n",
              "  }\n",
              "\n",
              "  @keyframes spin {\n",
              "    0% {\n",
              "      border-color: transparent;\n",
              "      border-bottom-color: var(--fill-color);\n",
              "      border-left-color: var(--fill-color);\n",
              "    }\n",
              "    20% {\n",
              "      border-color: transparent;\n",
              "      border-left-color: var(--fill-color);\n",
              "      border-top-color: var(--fill-color);\n",
              "    }\n",
              "    30% {\n",
              "      border-color: transparent;\n",
              "      border-left-color: var(--fill-color);\n",
              "      border-top-color: var(--fill-color);\n",
              "      border-right-color: var(--fill-color);\n",
              "    }\n",
              "    40% {\n",
              "      border-color: transparent;\n",
              "      border-right-color: var(--fill-color);\n",
              "      border-top-color: var(--fill-color);\n",
              "    }\n",
              "    60% {\n",
              "      border-color: transparent;\n",
              "      border-right-color: var(--fill-color);\n",
              "    }\n",
              "    80% {\n",
              "      border-color: transparent;\n",
              "      border-right-color: var(--fill-color);\n",
              "      border-bottom-color: var(--fill-color);\n",
              "    }\n",
              "    90% {\n",
              "      border-color: transparent;\n",
              "      border-bottom-color: var(--fill-color);\n",
              "    }\n",
              "  }\n",
              "</style>\n",
              "\n",
              "  <script>\n",
              "    async function quickchart(key) {\n",
              "      const quickchartButtonEl =\n",
              "        document.querySelector('#' + key + ' button');\n",
              "      quickchartButtonEl.disabled = true;  // To prevent multiple clicks.\n",
              "      quickchartButtonEl.classList.add('colab-df-spinner');\n",
              "      try {\n",
              "        const charts = await google.colab.kernel.invokeFunction(\n",
              "            'suggestCharts', [key], {});\n",
              "      } catch (error) {\n",
              "        console.error('Error during call to suggestCharts:', error);\n",
              "      }\n",
              "      quickchartButtonEl.classList.remove('colab-df-spinner');\n",
              "      quickchartButtonEl.classList.add('colab-df-quickchart-complete');\n",
              "    }\n",
              "    (() => {\n",
              "      let quickchartButtonEl =\n",
              "        document.querySelector('#df-a0d16a7e-f08a-45bc-b733-b422419a24cc button');\n",
              "      quickchartButtonEl.style.display =\n",
              "        google.colab.kernel.accessAllowed ? 'block' : 'none';\n",
              "    })();\n",
              "  </script>\n",
              "</div>\n",
              "    </div>\n",
              "  </div>\n"
            ]
          },
          "metadata": {},
          "execution_count": 27
        }
      ]
    },
    {
      "cell_type": "code",
      "source": [
        "# CREATING LIST OF ARTICLES\n",
        "news_articles = list(dataset[[\"News\"]][\"News\"])\n",
        "print(f'Total sample article: {len(news_articles)}')"
      ],
      "metadata": {
        "colab": {
          "base_uri": "https://localhost:8080/"
        },
        "id": "-jHBtlFx6lz_",
        "outputId": "a8216053-6e3c-4e99-cb48-72f687653c33"
      },
      "execution_count": null,
      "outputs": [
        {
          "output_type": "stream",
          "name": "stdout",
          "text": [
            "Total sample article: 544\n"
          ]
        }
      ]
    },
    {
      "cell_type": "code",
      "source": [
        "# DATA CLEAING & TOKENIZE\n",
        "clean = list()\n",
        "for news in news_articles:\n",
        "    clean.append(word_tokenize(news))"
      ],
      "metadata": {
        "id": "S24qECSs8On7"
      },
      "execution_count": null,
      "outputs": []
    },
    {
      "cell_type": "code",
      "source": [
        "# SHOW CLEANED DATAFRAME\n",
        "clean[0][:10]   # Showing a fraction"
      ],
      "metadata": {
        "colab": {
          "base_uri": "https://localhost:8080/"
        },
        "id": "nrHwexqgATyH",
        "outputId": "e39a295b-6613-40f8-ca76-77f4d5b69aeb"
      },
      "execution_count": null,
      "outputs": [
        {
          "output_type": "execute_result",
          "data": {
            "text/plain": [
              "['টেক',\n",
              " 'জায়ান্ট',\n",
              " 'অ্যাপলের',\n",
              " 'পরবর্তী',\n",
              " 'আইফোনে',\n",
              " '৩.৫',\n",
              " 'মিলিমিটারের',\n",
              " 'প্রচলিত',\n",
              " 'হেডফোন',\n",
              " 'জ্যাক']"
            ]
          },
          "metadata": {},
          "execution_count": 69
        }
      ]
    },
    {
      "cell_type": "code",
      "source": [
        "# BUILD VOCABULARY\n",
        "w2v = Word2Vec(clean, window = 10)\n",
        "w2v.train(clean, total_examples = len(clean), epochs = 30)"
      ],
      "metadata": {
        "colab": {
          "base_uri": "https://localhost:8080/"
        },
        "id": "7b2EJ53h-ed1",
        "outputId": "477fb810-fdb2-46bd-a39c-46198cd33744"
      },
      "execution_count": null,
      "outputs": [
        {
          "output_type": "stream",
          "name": "stderr",
          "text": [
            "WARNING:gensim.models.word2vec:Effective 'alpha' higher than previous training cycles\n"
          ]
        },
        {
          "output_type": "execute_result",
          "data": {
            "text/plain": [
              "(3530361, 4752990)"
            ]
          },
          "metadata": {},
          "execution_count": 72
        }
      ]
    },
    {
      "cell_type": "code",
      "source": [
        "# TESTING SIMILARITY\n",
        "w2v.wv.most_similar(\"বাংলাদেশ\")"
      ],
      "metadata": {
        "colab": {
          "base_uri": "https://localhost:8080/"
        },
        "id": "uLy4j9Ij-nQM",
        "outputId": "7cc6f914-b84c-4223-844e-53a4c7848bdd"
      },
      "execution_count": null,
      "outputs": [
        {
          "output_type": "execute_result",
          "data": {
            "text/plain": [
              "[('পার্ক', 0.6816406846046448),\n",
              " ('হাই-টেক', 0.6339172720909119),\n",
              " ('কাউন্সিল', 0.622245192527771),\n",
              " ('প্রধানমন্ত্রীর', 0.6219687461853027),\n",
              " ('ডিপার্টমেন্ট', 0.612385094165802),\n",
              " ('তথ্যপ্রযুক্তি', 0.6001042723655701),\n",
              " ('এশিয়া', 0.5916948318481445),\n",
              " ('বিজনেসের', 0.5908500552177429),\n",
              " ('ইংমার', 0.589751660823822),\n",
              " ('ব্যবস্থাপক', 0.589449942111969)]"
            ]
          },
          "metadata": {},
          "execution_count": 77
        }
      ]
    }
  ]
}