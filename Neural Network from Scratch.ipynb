{
  "nbformat": 4,
  "nbformat_minor": 0,
  "metadata": {
    "colab": {
      "provenance": [],
      "authorship_tag": "ABX9TyMKg0NsbiineEJ2Wvl7kGeR"
    },
    "kernelspec": {
      "name": "python3",
      "display_name": "Python 3"
    },
    "language_info": {
      "name": "python"
    }
  },
  "cells": [
    {
      "cell_type": "markdown",
      "source": [
        "# Practical Neural Network from scratch"
      ],
      "metadata": {
        "id": "yB_bG0rqvg2a"
      }
    },
    {
      "cell_type": "code",
      "source": [
        "# Import libraries\n",
        "import math\n",
        "import numpy as np"
      ],
      "metadata": {
        "id": "n1FQVcMHwMuL"
      },
      "execution_count": 10,
      "outputs": []
    },
    {
      "cell_type": "code",
      "execution_count": 14,
      "metadata": {
        "id": "M_2Azvm-vbTT"
      },
      "outputs": [],
      "source": [
        "# Sigmoid function: non-linear activation function\n",
        "def sigmoid(z):\n",
        "    return 1/(1+(math.exp(z)))"
      ]
    },
    {
      "cell_type": "code",
      "source": [
        "# Loss function: over a single training example\n",
        "def loss(y_predicted, y_original):\n",
        "    return -(y_original*math.log(y_predicted)+(1-y_original)*math.log(1-y_predicted))"
      ],
      "metadata": {
        "id": "tWoRYBQzxUrE"
      },
      "execution_count": 15,
      "outputs": []
    },
    {
      "cell_type": "code",
      "source": [
        "# Cost function: over entire taining examples\n",
        "def cost(sample_size, y_predicted, y_original):\n",
        "    return list(loss(y_predicted, y_original) for item in )"
      ],
      "metadata": {
        "id": "kVJNgSgWwdxi"
      },
      "execution_count": null,
      "outputs": []
    }
  ]
}