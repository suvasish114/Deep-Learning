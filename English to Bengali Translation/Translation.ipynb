{
  "nbformat": 4,
  "nbformat_minor": 0,
  "metadata": {
    "colab": {
      "provenance": [],
      "authorship_tag": "ABX9TyMFPvf0tqXlaAIqZBQlAi+t"
    },
    "kernelspec": {
      "name": "python3",
      "display_name": "Python 3"
    },
    "language_info": {
      "name": "python"
    }
  },
  "cells": [
    {
      "cell_type": "markdown",
      "source": [
        "# English to Bengali translation using RNN\n",
        "\n",
        "Status: `In-Development`"
      ],
      "metadata": {
        "id": "MA16JrAixUqX"
      }
    },
    {
      "cell_type": "markdown",
      "source": [
        "Dataset URL: http://www.manythings.org/anki\n"
      ],
      "metadata": {
        "id": "mXejgMDRxcv9"
      }
    },
    {
      "cell_type": "code",
      "execution_count": 86,
      "metadata": {
        "id": "qCkj3qS4xIsw"
      },
      "outputs": [],
      "source": [
        "# IMPORT LIBRARIES\n",
        "import numpy as np\n",
        "import pandas as pd\n",
        "import tensorflow as tf\n",
        "from sklearn.model_selection import train_test_split"
      ]
    },
    {
      "cell_type": "markdown",
      "source": [
        "## Data Processing"
      ],
      "metadata": {
        "id": "3O_gZ9wa8H1X"
      }
    },
    {
      "cell_type": "code",
      "source": [
        "# DOWNLOAD DATASET\n",
        "!!curl -O http://www.manythings.org/anki/ben-eng.zip\n",
        "!!unzip ben-eng.zip"
      ],
      "metadata": {
        "colab": {
          "base_uri": "https://localhost:8080/"
        },
        "id": "MbG93ykRx6Mw",
        "outputId": "36369b9f-f544-416b-9018-2bf11dedd7f6"
      },
      "execution_count": 1,
      "outputs": [
        {
          "output_type": "execute_result",
          "data": {
            "text/plain": [
              "['Archive:  ben-eng.zip',\n",
              " '  inflating: _about.txt              ',\n",
              " '  inflating: ben.txt                 ']"
            ]
          },
          "metadata": {},
          "execution_count": 1
        }
      ]
    },
    {
      "cell_type": "code",
      "source": [
        "# CONFIG FILE\n",
        "batch_size = 64         # Batch size for training.\n",
        "epochs = 100            # Number of epochs to train for.\n",
        "latent_dim = 256        # Latent dimensionality of the encoding space.\n",
        "num_samples = 10000     # Number of samples to train on.\n",
        "RNN_units = 512         # Intermediate RNN units\n",
        "data_path = \"ben.txt\"   # Path to the data txt file on disk."
      ],
      "metadata": {
        "id": "Ukz63X0DyB7B"
      },
      "execution_count": 100,
      "outputs": []
    },
    {
      "cell_type": "code",
      "source": [
        "# OPEN THE DATA FILE\n",
        "with open(data_path, \"r\", encoding=\"utf-8\") as f:\n",
        "    lines = f.read().split(\"\\n\")\n",
        "\n",
        "# SHOWING FIRST 10 LINES\n",
        "lines[:10]"
      ],
      "metadata": {
        "colab": {
          "base_uri": "https://localhost:8080/"
        },
        "id": "3C4LQi7vyZBP",
        "outputId": "8ffa7b48-fe22-4b11-f34b-bb0217499138"
      },
      "execution_count": 5,
      "outputs": [
        {
          "output_type": "execute_result",
          "data": {
            "text/plain": [
              "['Go.\\tযাও।\\tCC-BY 2.0 (France) Attribution: tatoeba.org #2877272 (CM) & #5545004 (tanay)',\n",
              " 'Go.\\tযান।\\tCC-BY 2.0 (France) Attribution: tatoeba.org #2877272 (CM) & #5545005 (tanay)',\n",
              " 'Go.\\tযা।\\tCC-BY 2.0 (France) Attribution: tatoeba.org #2877272 (CM) & #5545006 (tanay)',\n",
              " 'Run!\\tপালাও!\\tCC-BY 2.0 (France) Attribution: tatoeba.org #906328 (papabear) & #5548781 (tanay)',\n",
              " 'Run!\\tপালান!\\tCC-BY 2.0 (France) Attribution: tatoeba.org #906328 (papabear) & #5548783 (tanay)',\n",
              " 'Who?\\tকে?\\tCC-BY 2.0 (France) Attribution: tatoeba.org #2083030 (CK) & #5548787 (tanay)',\n",
              " 'Wow!\\tবাহ!\\tCC-BY 2.0 (France) Attribution: tatoeba.org #52027 (Zifre) & #11026314 (robingaspi)',\n",
              " 'Fire!\\tআগুন!\\tCC-BY 2.0 (France) Attribution: tatoeba.org #1829639 (Spamster) & #3232240 (tanay)',\n",
              " 'Help!\\tবাঁচাও!\\tCC-BY 2.0 (France) Attribution: tatoeba.org #435084 (lukaszpp) & #5548780 (tanay)',\n",
              " 'Help!\\tবাঁচান!\\tCC-BY 2.0 (France) Attribution: tatoeba.org #435084 (lukaszpp) & #5548782 (tanay)']"
            ]
          },
          "metadata": {},
          "execution_count": 5
        }
      ]
    },
    {
      "cell_type": "code",
      "source": [
        "print(f\"Total number of lines: {len(lines)}\")"
      ],
      "metadata": {
        "colab": {
          "base_uri": "https://localhost:8080/"
        },
        "id": "St2K43yp6ddD",
        "outputId": "ad9952aa-d2f4-4d05-8c2c-49ee112d8778"
      },
      "execution_count": 45,
      "outputs": [
        {
          "output_type": "stream",
          "name": "stdout",
          "text": [
            "Total number of lines: 5937\n"
          ]
        }
      ]
    },
    {
      "cell_type": "code",
      "source": [
        "# SEPARATING DATA FROM LINES\n",
        "def to_lines(text):\n",
        "    sentence = text.strip().split(\"\\n\")\n",
        "    sentence_list = [a.split(\"\\t\") for a in sentence]\n",
        "    return sentence_list[0]\n",
        "\n",
        "# TEST\n",
        "to_lines(lines[0])"
      ],
      "metadata": {
        "colab": {
          "base_uri": "https://localhost:8080/"
        },
        "id": "buVAfFhRyrlf",
        "outputId": "aae4ebdb-f18f-4aa1-c1b1-d08c2563840d"
      },
      "execution_count": 26,
      "outputs": [
        {
          "output_type": "execute_result",
          "data": {
            "text/plain": [
              "['Go.',\n",
              " 'যাও।',\n",
              " 'CC-BY 2.0 (France) Attribution: tatoeba.org #2877272 (CM) & #5545004 (tanay)']"
            ]
          },
          "metadata": {},
          "execution_count": 26
        }
      ]
    },
    {
      "cell_type": "code",
      "source": [
        "# SEPARATE BEN-ENG COLUMNS FROM THE LIST\n",
        "eng_ben = np.array([to_lines(a) for a in lines][:5936])\n",
        "eng_ben = eng_ben[:,[0,1]]\n",
        "\n",
        "# TEST\n",
        "eng_ben[:5]"
      ],
      "metadata": {
        "colab": {
          "base_uri": "https://localhost:8080/"
        },
        "id": "un-cuxx0zoFF",
        "outputId": "19ccdade-b6f6-4fe4-9aba-1a65ff42ff46"
      },
      "execution_count": 54,
      "outputs": [
        {
          "output_type": "execute_result",
          "data": {
            "text/plain": [
              "array([['Go.', 'যাও।'],\n",
              "       ['Go.', 'যান।'],\n",
              "       ['Go.', 'যা।'],\n",
              "       ['Run!', 'পালাও!'],\n",
              "       ['Run!', 'পালান!']], dtype='<U134')"
            ]
          },
          "metadata": {},
          "execution_count": 54
        }
      ]
    },
    {
      "cell_type": "code",
      "source": [
        "# CASE CONVERSION\n",
        "for i in range(len(eng_ben)):\n",
        "    eng_ben[i,0] = eng_ben[i,0].lower()\n",
        "\n",
        "# TEST\n",
        "eng_ben[:5]"
      ],
      "metadata": {
        "colab": {
          "base_uri": "https://localhost:8080/"
        },
        "id": "PFr4D7175k7v",
        "outputId": "8f2560ba-d989-42ae-9e4e-b8691f206355"
      },
      "execution_count": 59,
      "outputs": [
        {
          "output_type": "execute_result",
          "data": {
            "text/plain": [
              "array([['go.', 'যাও।'],\n",
              "       ['go.', 'যান।'],\n",
              "       ['go.', 'যা।'],\n",
              "       ['run!', 'পালাও!'],\n",
              "       ['run!', 'পালান!']], dtype='<U134')"
            ]
          },
          "metadata": {},
          "execution_count": 59
        }
      ]
    },
    {
      "cell_type": "markdown",
      "source": [
        "## Vocabulary building"
      ],
      "metadata": {
        "id": "m-sVOYCF8Lnl"
      }
    },
    {
      "cell_type": "code",
      "source": [
        "# WORD TOKENIZATION\n",
        "def tokenization(lines):\n",
        "    tokenizer = tf.keras.preprocessing.text.Tokenizer()\n",
        "    tokenizer.fit_on_texts(lines)\n",
        "    return tokenizer"
      ],
      "metadata": {
        "id": "UrIdQ5hC76db"
      },
      "execution_count": 60,
      "outputs": []
    },
    {
      "cell_type": "code",
      "source": [
        "# TOKENIZE ENGLISH SENTENCES\n",
        "eng_tokenizer = tokenization(eng_ben[:,0])\n",
        "eng_vocab_size = len(eng_tokenizer.word_index) + 1\n",
        "print(f\"length of english vocabulary: {eng_vocab_size}\")"
      ],
      "metadata": {
        "colab": {
          "base_uri": "https://localhost:8080/"
        },
        "id": "jcoZRUQ78poX",
        "outputId": "668e0db6-2492-427d-b4a1-af438ecd4888"
      },
      "execution_count": 92,
      "outputs": [
        {
          "output_type": "stream",
          "name": "stdout",
          "text": [
            "length of english vocabulary: 2516\n"
          ]
        }
      ]
    },
    {
      "cell_type": "code",
      "source": [
        "# TOKENIZE BENGALI SENTENCES\n",
        "ben_tokenizer = tokenization(eng_ben[:,1])\n",
        "ben_vocab_size = len(ben_tokenizer.word_index) + 1\n",
        "print(f\"length of bengali vocabulary: {ben_vocab_size}\")"
      ],
      "metadata": {
        "colab": {
          "base_uri": "https://localhost:8080/"
        },
        "id": "65tQudN28zJF",
        "outputId": "68630d74-9a5a-4e3a-c69a-f9e4d5c87122"
      },
      "execution_count": 93,
      "outputs": [
        {
          "output_type": "stream",
          "name": "stdout",
          "text": [
            "length of bengali vocabulary: 4489\n"
          ]
        }
      ]
    },
    {
      "cell_type": "code",
      "source": [
        "# DETERMINE THE MAXLENGTH\n",
        "eng_max_len = -1\n",
        "ben_max_len = -1\n",
        "for i in eng_ben:\n",
        "    temp_eng = len(str(i[0]).strip().split(\" \"))\n",
        "    temp_ben = len(str(i[1]).strip().split(\" \"))\n",
        "    if eng_max_len < temp_eng:\n",
        "        eng_max_len = temp_eng\n",
        "    if ben_max_len < temp_ben:\n",
        "        ben_max_len = temp_ben\n",
        "\n",
        "# PRINTING THE MAX LENGTH\n",
        "print(f\"English max length: {eng_max_len}\\nBengali max length: {ben_max_len}\")"
      ],
      "metadata": {
        "colab": {
          "base_uri": "https://localhost:8080/"
        },
        "id": "-QbrzV5T_0vY",
        "outputId": "1a43e943-26fa-48a1-d3e9-9b6e44255efd"
      },
      "execution_count": 82,
      "outputs": [
        {
          "output_type": "stream",
          "name": "stdout",
          "text": [
            "English max length: 20\n",
            "Bengali max length: 18\n"
          ]
        }
      ]
    },
    {
      "cell_type": "code",
      "source": [
        "# ENCODE SEQUENCES\n",
        "def encode_sequences(tokenizer, length, lines):\n",
        "    seq = tokenizer.texts_to_sequences(lines)       # INTEGER ENCODING\n",
        "    seq = tf.keras.utils.pad_sequences(seq, maxlen = length, padding = 'post')\n",
        "    return seq"
      ],
      "metadata": {
        "id": "jM42FrjuBCWd"
      },
      "execution_count": 95,
      "outputs": []
    },
    {
      "cell_type": "code",
      "source": [
        "# SPLIT INTO TRAIN AND TEST\n",
        "train, test = train_test_split(eng_ben, test_size = 0.1, random_state = 12)"
      ],
      "metadata": {
        "id": "HnY4LNp5BzYR"
      },
      "execution_count": 96,
      "outputs": []
    },
    {
      "cell_type": "code",
      "source": [
        "# PREPARING TRAINING SET\n",
        "trainX = encode_sequences(eng_tokenizer, eng_max_len, train[:, 0])\n",
        "trainY = encode_sequences(ben_tokenizer, ben_max_len, train[:, 1])"
      ],
      "metadata": {
        "id": "10uraXPrCrQ8"
      },
      "execution_count": 97,
      "outputs": []
    },
    {
      "cell_type": "code",
      "source": [
        "# PREPARING VALIDATION SET\n",
        "testX = encode_sequences(eng_tokenizer, eng_max_len, test[:, 0])\n",
        "testY = encode_sequences(ben_tokenizer, ben_max_len, test[:, 1])"
      ],
      "metadata": {
        "id": "buDRFBBaCrTb"
      },
      "execution_count": 98,
      "outputs": []
    },
    {
      "cell_type": "markdown",
      "source": [
        "## Model"
      ],
      "metadata": {
        "id": "zXGqiD6o98Q8"
      }
    },
    {
      "cell_type": "code",
      "source": [
        "# IMPORT\n",
        "from keras.models import Sequential\n",
        "from keras.layers import Dense, LSTM, Embedding, RepeatVector\n",
        "from keras import optimizers"
      ],
      "metadata": {
        "id": "-L94ZCuxHYlD"
      },
      "execution_count": 102,
      "outputs": []
    },
    {
      "cell_type": "code",
      "source": [
        "# MODEL DECLARATION\n",
        "def define_model(in_vocab, out_vocab, in_timestamp, out_timestamp, units):\n",
        "    model = Sequential()\n",
        "    model.add(Embedding(in_vocab, units, input_length = in_timestamp, mask_zero = True))\n",
        "    model.add(LSTM(units))\n",
        "    model.add(RepeatVector(out_timestamp))\n",
        "    model.add(LSTM(units, return_sequences = True))\n",
        "    model.add(Dense(out_vocab, activation = \"softmax\"))\n",
        "    return model"
      ],
      "metadata": {
        "id": "odxZw-F_99tn"
      },
      "execution_count": 99,
      "outputs": []
    },
    {
      "cell_type": "code",
      "source": [
        "# MODEL DEFINITION\n",
        "model = define_model(eng_vocab_size, ben_vocab_size, eng_max_len, ben_max_len, RNN_units)\n",
        "\n",
        "# COMPILATION\n",
        "model.compile(optimizer = optimizers.RMSprop(learning_rate = 0.001), loss = \"sparse_categorical_crossentropy\")\n",
        "\n",
        "# SUMMARY\n",
        "model.summary()"
      ],
      "metadata": {
        "colab": {
          "base_uri": "https://localhost:8080/"
        },
        "id": "m1P4PR_KD780",
        "outputId": "82befa8e-fbed-4da0-d5e8-9ea27de9ef90"
      },
      "execution_count": 105,
      "outputs": [
        {
          "output_type": "stream",
          "name": "stdout",
          "text": [
            "Model: \"sequential_2\"\n",
            "_________________________________________________________________\n",
            " Layer (type)                Output Shape              Param #   \n",
            "=================================================================\n",
            " embedding_2 (Embedding)     (None, 20, 512)           1288192   \n",
            "                                                                 \n",
            " lstm_4 (LSTM)               (None, 512)               2099200   \n",
            "                                                                 \n",
            " repeat_vector_2 (RepeatVec  (None, 18, 512)           0         \n",
            " tor)                                                            \n",
            "                                                                 \n",
            " lstm_5 (LSTM)               (None, 18, 512)           2099200   \n",
            "                                                                 \n",
            " dense_2 (Dense)             (None, 18, 4489)          2302857   \n",
            "                                                                 \n",
            "=================================================================\n",
            "Total params: 7789449 (29.71 MB)\n",
            "Trainable params: 7789449 (29.71 MB)\n",
            "Non-trainable params: 0 (0.00 Byte)\n",
            "_________________________________________________________________\n"
          ]
        }
      ]
    },
    {
      "cell_type": "code",
      "source": [
        "# TRAINING\n",
        "model.fit(trainX, trainY.reshape(trainY.shape[0], trainY.shape[1], 1),\n",
        "          epochs = 10, batch_size = 512, validation_split = 0.2)"
      ],
      "metadata": {
        "colab": {
          "base_uri": "https://localhost:8080/"
        },
        "id": "wlzsS8xvD7-7",
        "outputId": "572d9f7f-8a52-407e-eb79-8d1352039d34"
      },
      "execution_count": 107,
      "outputs": [
        {
          "output_type": "stream",
          "name": "stdout",
          "text": [
            "Epoch 1/10\n",
            "9/9 [==============================] - 78s 9s/step - loss: 2.3386 - val_loss: 2.2326\n",
            "Epoch 2/10\n",
            "9/9 [==============================] - 83s 9s/step - loss: 2.2543 - val_loss: 2.1954\n",
            "Epoch 3/10\n",
            "9/9 [==============================] - 79s 9s/step - loss: 2.1822 - val_loss: 2.1446\n",
            "Epoch 4/10\n",
            "9/9 [==============================] - 92s 10s/step - loss: 2.1429 - val_loss: 2.0463\n",
            "Epoch 5/10\n",
            "9/9 [==============================] - 103s 11s/step - loss: 2.0912 - val_loss: 1.9996\n",
            "Epoch 6/10\n",
            "9/9 [==============================] - 94s 10s/step - loss: 2.0072 - val_loss: 2.0233\n",
            "Epoch 7/10\n",
            "9/9 [==============================] - 81s 9s/step - loss: 2.0427 - val_loss: 2.0083\n",
            "Epoch 8/10\n",
            "9/9 [==============================] - 96s 11s/step - loss: 1.9864 - val_loss: 1.9149\n",
            "Epoch 9/10\n",
            "9/9 [==============================] - 96s 11s/step - loss: 1.9761 - val_loss: 1.9079\n",
            "Epoch 10/10\n",
            "9/9 [==============================] - 99s 11s/step - loss: 1.9329 - val_loss: 1.8928\n"
          ]
        },
        {
          "output_type": "execute_result",
          "data": {
            "text/plain": [
              "<keras.src.callbacks.History at 0x7c4f7d992890>"
            ]
          },
          "metadata": {},
          "execution_count": 107
        }
      ]
    },
    {
      "cell_type": "markdown",
      "source": [
        "## Prediction"
      ],
      "metadata": {
        "id": "hkW4pCLh9-RJ"
      }
    },
    {
      "cell_type": "code",
      "source": [
        "# PREDICTION\n",
        "predictions = np.argmax(model.predict(testX.reshape((testX.shape[0], testX.shape[1]))), axis = 1)"
      ],
      "metadata": {
        "id": "0C8o9aqy9_8k"
      },
      "execution_count": null,
      "outputs": []
    },
    {
      "cell_type": "code",
      "source": [
        "predictions"
      ],
      "metadata": {
        "colab": {
          "base_uri": "https://localhost:8080/"
        },
        "id": "6vIQeHbscbDs",
        "outputId": "9f7b6855-f26b-4718-da98-70b7e3bcc317"
      },
      "execution_count": 150,
      "outputs": [
        {
          "output_type": "execute_result",
          "data": {
            "text/plain": [
              "array([[17,  1,  1, ...,  0,  0,  0],\n",
              "       [17,  1,  1, ...,  0,  0,  0],\n",
              "       [17,  1,  1, ...,  0,  0,  0],\n",
              "       ...,\n",
              "       [17,  1,  1, ...,  0,  0,  0],\n",
              "       [17,  1,  1, ...,  0,  0,  0],\n",
              "       [17,  1,  1, ...,  0,  0,  0]])"
            ]
          },
          "metadata": {},
          "execution_count": 150
        }
      ]
    },
    {
      "cell_type": "code",
      "source": [
        "# GET WORD FROM THE PREDICTIONS\n",
        "def get_word(n, tokenizer):\n",
        "    for word, index in tokenizer.word_index.items():\n",
        "        if index == n:\n",
        "            return word\n",
        "    return None"
      ],
      "metadata": {
        "id": "bP1XeBTVKGoo"
      },
      "execution_count": 151,
      "outputs": []
    },
    {
      "cell_type": "code",
      "source": [
        "# CONVERT PREDICTIONS INTO SENTENCES\n",
        "pred_text = []\n",
        "for i in predictions:\n",
        "    temp = []\n",
        "    for j in range(len(i)):\n",
        "        t = get_word(i[j], ben_tokenizer)\n",
        "        if j > 0:\n",
        "            if t == get_word(i[j-1], eng_tokenizer) or (t == None):\n",
        "                pass\n",
        "            else:\n",
        "                temp.append(t)\n",
        "        else:\n",
        "            if t == None:\n",
        "                temp.append(\"\")\n",
        "            else:\n",
        "                temp.append(t)\n",
        "    pred_text.append(\" \".join(temp))\n",
        "    break"
      ],
      "metadata": {
        "id": "AjNKCnm7Ke6w"
      },
      "execution_count": 163,
      "outputs": []
    },
    {
      "cell_type": "code",
      "source": [
        "print(test[:,1][0])"
      ],
      "metadata": {
        "colab": {
          "base_uri": "https://localhost:8080/"
        },
        "id": "Y6LT6mDviI60",
        "outputId": "5e7bc28a-8444-4c6d-f5a1-d6c624b79dbe"
      },
      "execution_count": 161,
      "outputs": [
        {
          "output_type": "stream",
          "name": "stdout",
          "text": [
            "আপনার হাতে সময় আছে?\n"
          ]
        }
      ]
    },
    {
      "cell_type": "code",
      "source": [
        "print(pred_text)"
      ],
      "metadata": {
        "colab": {
          "base_uri": "https://localhost:8080/"
        },
        "id": "PrHpaUsfhnDt",
        "outputId": "18e43855-e26e-449e-ee79-99135fbc4181"
      },
      "execution_count": 164,
      "outputs": [
        {
          "output_type": "stream",
          "name": "stdout",
          "text": [
            "[0, 'টমের আমি আমি আমি আমি আমার আমি আমি আমি আমি টম টম টম টম টম আমি আমি আমি টম টম আমি টম টম টম টম টম টম টম টম টম টম টম টম টম আমি টম টম টম টম আমি টম টম টম টম টম টম আমি টম টম টম টম টম টম টম টম টম টম টম টম টম টম আমার টম টম টম টম টম টম টম টম টম টম টম টম টম টম টম টম টম টম টম টম টম টম টম টম টম আমার টম টম টম টম টম টম টম টম টম টম টম টম টম টম টম টম টম টম টম আমি টম টম টম টম টম টম আমি টম আমি টম টম টম টম টম টম টম টম টম টম টম টম টম টম টম টম টম টম টম টম টম টম টম টম টম টম টম টম টম টম আমি টম টম টম টম টম টম টম টম টম টম টম টম টম টম টম টম টম টম টম টম টম টম টম টম টম আমি টম টম টম টম আমি আমি টম টম আমি টম টম টম টম টম আমি টম টম টম টম টম টম আমি টম টম টম টম টম টম টম টম আমি টম টম টম টম টম টম আমি টম টম টম টম টম টম আমি টম টম টম আমি টম টম টম আমি আমি আমি টম আমি টম আমি টম টম টম টম টম টম টম টম টম আমি টম টম আমি টম টম টম আমি টম টম টম টম টম টম টম টম টম টম টম টম আমি আমি আমি টম টম টম টম টম টম টম টম টম টম টম টম টম আমি টম আমি টম টম টম আমি টম আমি টম টম টম টম আমি টম আমি আমি আমি টম টম টম টম টম আমি টম আমি টম টম টম আমি টম টম টম আমি টম আমি টম টম আমি টম আমি টম টম টম আমি টম টম আমি টম টম টম টম আমি টম টম টম টম টম টম টম টম টম আমি টম টম আমি আমি টম টম টম টম টম টম টম টম আমি আমি টম টম টম টম টম টম আমি আমি আমি টম আমি টম আমি টম টম টম টম আমি টম টম টম টম টম আমি টম টম আমি টম আমি টম আমি আমি টম আমি আমি টম টম আমি টম টম টম আমি আমি টম আমি টম টম আমি আমি টম টম টম টম টম টম টম টম টম টম আমি আমি টম আমি আমি টম টম টম টম টম আমি আমি টম আমি আমি আমি টম টম টম টম টম আমি টম টম টম টম আমি আমি টম টম টম টম টম']\n"
          ]
        }
      ]
    },
    {
      "cell_type": "markdown",
      "source": [
        "## Test"
      ],
      "metadata": {
        "id": "at0bLfCkMmND"
      }
    },
    {
      "cell_type": "code",
      "source": [
        "# CREATE DATA FRAME WITH ORIGINAL VS PREDICTED\n",
        "df = pd.DataFrame({\"actual\": test[:,0], \"generated\": pred_text})\n",
        "df.head(10)"
      ],
      "metadata": {
        "id": "t5qX8eo6Msia"
      },
      "execution_count": null,
      "outputs": []
    },
    {
      "cell_type": "markdown",
      "source": [
        "```\n",
        "References: https://youtu.be/7gHqxK1o7MU\n",
        "```"
      ],
      "metadata": {
        "id": "uZrEbF-pNhlS"
      }
    }
  ]
}