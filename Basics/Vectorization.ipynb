{
  "nbformat": 4,
  "nbformat_minor": 0,
  "metadata": {
    "colab": {
      "provenance": [],
      "authorship_tag": "ABX9TyNmXuso8Poe6p6HgHRkPDA2"
    },
    "kernelspec": {
      "name": "python3",
      "display_name": "Python 3"
    },
    "language_info": {
      "name": "python"
    }
  },
  "cells": [
    {
      "cell_type": "code",
      "execution_count": null,
      "metadata": {
        "colab": {
          "base_uri": "https://localhost:8080/"
        },
        "id": "DBLFvw6WpqUs",
        "outputId": "ed0e8747-7c22-4842-bd3f-a615dc241ed8"
      },
      "outputs": [
        {
          "output_type": "stream",
          "name": "stdout",
          "text": [
            "Requirement already satisfied: numpy in /usr/local/lib/python3.10/dist-packages (1.23.5)\n"
          ]
        }
      ],
      "source": [
        "# INSTALL LIBRARIES\n",
        "%pip install numpy"
      ]
    },
    {
      "cell_type": "code",
      "source": [
        "# IMPORT LIBRARIES\n",
        "import numpy as np\n",
        "import time\n",
        "import math"
      ],
      "metadata": {
        "id": "Td9HXewjqTam"
      },
      "execution_count": null,
      "outputs": []
    },
    {
      "cell_type": "code",
      "source": [
        "a = np.random.rand(1000000)\n",
        "b = np.random.rand(1000000)\n",
        "\n",
        "# VECTORIZED VERSION\n",
        "tic = time.time()\n",
        "c = np.dot(a,b)\n",
        "toc = time.time()\n",
        "print(f\"Vectorized: {1000*(toc-tic)}ms\")\n",
        "\n",
        "# ITERATIVE VERSION\n",
        "c = list()\n",
        "tic = time.time()\n",
        "for i in range(1000000):\n",
        "  c = a[i]*b[i]\n",
        "toc = time.time()\n",
        "print(f\"Iterative: {1000*(toc-tic)}ms\")"
      ],
      "metadata": {
        "colab": {
          "base_uri": "https://localhost:8080/"
        },
        "id": "T738UptRqnYO",
        "outputId": "681b916b-170f-48b0-a9d4-7b12a4ad23c9"
      },
      "execution_count": null,
      "outputs": [
        {
          "output_type": "stream",
          "name": "stdout",
          "text": [
            "Vectorized: 4.859447479248047ms\n",
            "Iterative: 421.68378829956055ms\n"
          ]
        }
      ]
    },
    {
      "cell_type": "code",
      "source": [
        "v = np.random.rand(1000000)\n",
        "u = np.zeros((1000000,1))\n",
        "\n",
        "# ITERATIVE VERSION\n",
        "tic = time.time()\n",
        "for i in range(1000000):\n",
        "  u[i] = math.exp(v[i])\n",
        "toc = time.time()\n",
        "print(f\"Iterative: {1000*(toc-tic)}ms\")\n",
        "\n",
        "# VECTORIZED VERSION\n",
        "tic = time.time()\n",
        "u = np.exp(v)\n",
        "toc = time.time()\n",
        "print(f\"Vectorized: {1000*(toc-tic)}ms\")"
      ],
      "metadata": {
        "colab": {
          "base_uri": "https://localhost:8080/"
        },
        "id": "dg8m5x6GrM0j",
        "outputId": "7eaa2905-8e1c-41d1-acc6-b0b95a29ca31"
      },
      "execution_count": null,
      "outputs": [
        {
          "output_type": "stream",
          "name": "stdout",
          "text": [
            "Iterative: 1345.9045886993408ms\n",
            "Vectorized: 25.788068771362305ms\n"
          ]
        }
      ]
    }
  ]
}